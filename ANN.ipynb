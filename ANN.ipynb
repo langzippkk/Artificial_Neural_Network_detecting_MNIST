{
 "cells": [
  {
   "cell_type": "code",
   "execution_count": 1,
   "metadata": {},
   "outputs": [],
   "source": [
    "import pandas as pd\n",
    "import numpy as np\n",
    "import matplotlib.pyplot as plt\n",
    "from sklearn.model_selection import train_test_split\n",
    "from sklearn.metrics import confusion_matrix\n",
    "import itertools\n",
    "%matplotlib inline\n",
    "import seaborn as sns\n",
    "sns.set(style='white', context='notebook', palette='deep')"
   ]
  },
  {
   "cell_type": "markdown",
   "metadata": {},
   "source": [
    "# Load Data\n",
    "\n",
    "with feature engineering"
   ]
  },
  {
   "cell_type": "code",
   "execution_count": 2,
   "metadata": {},
   "outputs": [],
   "source": [
    "df = pd.read_csv('./train.csv')\n",
    "test = pd.read_csv(\"./test.csv\")\n",
    "\n",
    "X = np.asmatrix(df.drop('label', axis=1)) / 255\n",
    "y = np.asarray(df['label'])\n",
    "X_train, X_val, y_train, y_val = train_test_split(X, y, test_size=0.25, random_state=0)"
   ]
  },
  {
   "cell_type": "code",
   "execution_count": 3,
   "metadata": {},
   "outputs": [
    {
     "data": {
      "image/png": "[encoded data removed]",
      "text/plain": [
       "<matplotlib.figure.Figure at 0x10cc295c0>"
      ]
     },
     "metadata": {},
     "output_type": "display_data"
    }
   ],
   "source": [
    "g = sns.countplot(y_train)"
   ]
  },
  {
   "cell_type": "code",
   "execution_count": 4,
   "metadata": {},
   "outputs": [
    {
     "data": {
      "image/png": "[encoded data removed]",
      "text/plain": [
       "<matplotlib.figure.Figure at 0x118e51b70>"
      ]
     },
     "metadata": {},
     "output_type": "display_data"
    }
   ],
   "source": [
    "# plot some number\n",
    "num = plt.imshow(X_train[1000,:].reshape(28,28))"
   ]
  },
  {
   "cell_type": "code",
   "execution_count": 5,
   "metadata": {},
   "outputs": [],
   "source": [
    "class ANN():\n",
    "    def __init__(self, nhid, nunits):\n",
    "        self.nhid = nhid\n",
    "        self.nunits = nunits # a list of number of units for each layer\n",
    "        self.weights = []\n",
    "        self.bias =  []\n",
    "        self.result = [None]* (self.nhid+2)\n",
    "        self.delta =  [None]* (self.nhid+2)\n",
    "        self.zs = [None] * (self.nhid+2)\n",
    "        self.errors = []\n",
    "        self.accuracies = []\n",
    "        \n",
    "    \n",
    "    def forward(self, x):\n",
    "        '''\n",
    "        The forward method is basically going through layer by layer, \n",
    "        and have sigmoid as activation function to generate the output\n",
    "        for each layer\n",
    "        \n",
    "        Input:\n",
    "            x: an input row vector\n",
    "        Output:\n",
    "            last layer result\n",
    "        '''\n",
    "        self.result[0] = np.array(x)\n",
    "        for layer in range(1, self.nhid+2):\n",
    "            z = self.result[layer-1]@self.weights[layer-1] + self.bias[layer-1]\n",
    "            self.zs[layer] = np.array(z)\n",
    "            result = self.sigmoid(z)\n",
    "            self.result[layer] = np.array(result)\n",
    "        return self.result[layer]\n",
    "    \n",
    "    def backward(self, x, y):\n",
    "        '''\n",
    "        The backward method is doing the back probagation method for each layer.\n",
    "        To ease the weights updating, I saved the delta for each layer\n",
    "        \n",
    "        Input: \n",
    "            x: input row vector\n",
    "            y: true result\n",
    "        '''\n",
    "        self.delta[self.nhid+1] = self.dsigmoid(self.zs[self.nhid+1]) * (y - self.result[self.nhid+1])\n",
    "        for layer in range(self.nhid, 0, -1):\n",
    "            z = self.zs[layer]\n",
    "            self.delta[layer] = (self.delta[layer+1]@self.weights[layer].T) * self.dsigmoid(z)\n",
    "                \n",
    "                \n",
    "    def weights_update(self, alpha):\n",
    "        '''\n",
    "        This function basically update the parameters(not only weights) for each layer\n",
    "        based on the delta saved from the back probagation method\n",
    "        \n",
    "        Input:\n",
    "            alpha: learning rate\n",
    "        '''\n",
    "        for layer in range(self.nhid+1):\n",
    "            self.weights[layer] += alpha * self.result[layer].T@self.delta[layer+1]\n",
    "            self.bias[layer] += alpha * self.delta[layer+1]\n",
    "    \n",
    "    def fit(self, X, y, alpha, t):\n",
    "        '''\n",
    "        Fitting the neural network and calculate errors and accuracy for each epoch\n",
    "        \n",
    "        Input:\n",
    "            X: training features\n",
    "            y: training result \n",
    "            alpha: learning rate\n",
    "            t: number of iterations(epoch)\n",
    "        \n",
    "        '''\n",
    "        y = np.asarray(pd.get_dummies(y), dtype=float)\n",
    "        m, n = X.shape\n",
    "        self.param_init(X,y)\n",
    "        for epoch in range(t):\n",
    "            error =0\n",
    "            for i in range(m):\n",
    "                x = np.asarray(X[i,:])\n",
    "                v = np.asarray(y[i,:]).reshape((1, len(y[i,:])))\n",
    "                \n",
    "                a = self.forward(x)\n",
    "                self.backward(x, v)\n",
    "                self.weights_update(alpha)\n",
    "                error += np.sum((v-a)**2)\n",
    "            print(f'Training Error: {error/len(X)}')\n",
    "            accuracy = self.accuracy(X, y)  \n",
    "            self.accuracies.append(accuracy)\n",
    "            self.errors.append(error/len(X))\n",
    "            if epoch%5 ==0:\n",
    "                print('>epoch=%d, lr=%0.3f, error=%.3f, accuracy=%.4f'%(epoch, alpha, error/len(X), accuracy))\n",
    "                \n",
    "            \n",
    "    def predict(self, T):\n",
    "        '''\n",
    "        Input:\n",
    "            T: test examples\n",
    "            \n",
    "        Output:\n",
    "            predict result\n",
    "        '''\n",
    "        result = T\n",
    "        for layer in range(1, self.nhid+2):\n",
    "            z = result@self.weights[layer-1]\n",
    "            result = self.sigmoid(z)\n",
    "        return result, np.argmax(result, axis=1)\n",
    "        \n",
    "    def print(self):\n",
    "        print(f'current weights: \\n {self.weights}' \\\n",
    "             f'current bias: \\n {self.bias}')\n",
    "    \n",
    "    def param_init(self, X, y):\n",
    "        '''\n",
    "        Initialing parameters for neural network by using xavier initialization\n",
    "        \n",
    "        Input:\n",
    "            X: training features\n",
    "            y: training result\n",
    "        '''\n",
    "        nin, nout = X.shape[1], self.nunits[0]\n",
    "        self.weights.append(self.xavier_init(nin, nout))\n",
    "        self.bias.append(self.xavier_init(1, nout))\n",
    "        for i in range(self.nhid - 1):\n",
    "            self.weights.append(self.xavier_init(self.nunits[i], self.nunits[i+1]))\n",
    "            self.bias.append(self.xavier_init(1, self.nunits[i+1]))\n",
    "        self.weights.append(self.xavier_init(self.nunits[-1], y.shape[1]))\n",
    "        self.bias.append(self.xavier_init(1, y.shape[1]))\n",
    "        \n",
    "    def xavier_init(self, nin, nout):\n",
    "        '''\n",
    "        Input:\n",
    "            nin: number of input\n",
    "            nout: number of output\n",
    "        Output:\n",
    "            xavier initialization\n",
    "        '''\n",
    "        up = np.sqrt(6 / (nin + nout))\n",
    "        low = -up\n",
    "        return (up - low) * np.random.random_sample((nin, nout)) + low\n",
    "    \n",
    "    def accuracy(self, X, y):\n",
    "        '''\n",
    "        Input:\n",
    "            X: training features\n",
    "            y: training result\n",
    "        Output:\n",
    "            accuracy\n",
    "            \n",
    "        '''\n",
    "        prob, predictions = self.predict(X)\n",
    "        predictions = np.squeeze(np.asarray(predictions))\n",
    "        label = np.argmax(y, axis=1)\n",
    "        return sum(predictions == label) / X.shape[0]\n",
    "                \n",
    "    def sigmoid(self, x):\n",
    "        return 1 / (1 + np.exp(-x))\n",
    "    \n",
    "    def dsigmoid(self, x):\n",
    "        '''\n",
    "        derivatives for sigmoid\n",
    "        '''\n",
    "        return self.sigmoid(x) * (1 - self.sigmoid(x))"
   ]
  },
  {
   "cell_type": "code",
   "execution_count": 6,
   "metadata": {},
   "outputs": [],
   "source": [
    "ann = ANN(2, [64, 64])"
   ]
  },
  {
   "cell_type": "code",
   "execution_count": 7,
   "metadata": {},
   "outputs": [
    {
     "name": "stdout",
     "output_type": "stream",
     "text": [
      "Training Error: 0.305111104410624\n",
      ">epoch=0, lr=0.100, error=0.305, accuracy=0.9159\n",
      "Training Error: 0.11553265572269808\n",
      "Training Error: 0.08597945220389482\n",
      "Training Error: 0.06923299499781688\n",
      "Training Error: 0.05804369756110391\n",
      "Training Error: 0.04971688542357365\n",
      ">epoch=5, lr=0.100, error=0.050, accuracy=0.9727\n",
      "Training Error: 0.04316807849710413\n",
      "Training Error: 0.03792529986282915\n",
      "Training Error: 0.033453521099773405\n",
      "Training Error: 0.02957115827923241\n",
      "Training Error: 0.026376685771993025\n",
      ">epoch=10, lr=0.100, error=0.026, accuracy=0.9846\n",
      "Training Error: 0.023722349178411532\n",
      "Training Error: 0.02143442066478345\n",
      "Training Error: 0.019500904765450598\n",
      "Training Error: 0.01789154038737929\n",
      "Training Error: 0.016455202489956695\n",
      ">epoch=15, lr=0.100, error=0.016, accuracy=0.9854\n",
      "Training Error: 0.015221036176883038\n",
      "Training Error: 0.014259407447295421\n",
      "Training Error: 0.013333599632849448\n",
      "Training Error: 0.012566579491967657\n",
      "CPU times: user 6min 13s, sys: 44.2 s, total: 6min 57s\n",
      "Wall time: 4min 17s\n"
     ]
    }
   ],
   "source": [
    "%%time\n",
    "ALPHA = 0.1\n",
    "EPOCH = 20\n",
    "ann.fit(X_train, y_train, ALPHA, EPOCH)"
   ]
  },
  {
   "cell_type": "code",
   "execution_count": 8,
   "metadata": {},
   "outputs": [
    {
     "data": {
      "text/plain": [
       "0.9598095238095238"
      ]
     },
     "execution_count": 8,
     "metadata": {},
     "output_type": "execute_result"
    }
   ],
   "source": [
    "prob, res = ann.predict(X_val)\n",
    "res = res.reshape(1,-1)\n",
    "y = y_val.reshape(1,-1)\n",
    "np.sum(res == y) / len(y_val)"
   ]
  },
  {
   "cell_type": "code",
   "execution_count": 9,
   "metadata": {},
   "outputs": [
    {
     "data": {
      "image/png": "[encoded data removed]",
      "text/plain": [
       "<matplotlib.figure.Figure at 0x10b978b70>"
      ]
     },
     "metadata": {},
     "output_type": "display_data"
    }
   ],
   "source": [
    "# plot the Training cost and Validation cost\n",
    "epoches = np.arange(EPOCH)\n",
    "plt.plot(epoches, ann.errors, color='darkorange', label=\"cost\")\n",
    "plt.xlabel('# epochs')\n",
    "plt.ylabel('Cost')\n",
    "legend = plt.legend(loc='best', shadow=True)"
   ]
  },
  {
   "cell_type": "code",
   "execution_count": 10,
   "metadata": {},
   "outputs": [
    {
     "data": {
      "image/png": "[encoded data removed]",
      "text/plain": [
       "<matplotlib.figure.Figure at 0x1158b9828>"
      ]
     },
     "metadata": {},
     "output_type": "display_data"
    }
   ],
   "source": [
    "# plot the Training accuracy and Validation accuracy\n",
    "plt.plot(epoches, ann.accuracies, color='darkorange', label=\"accuracy\")\n",
    "plt.xlabel('# epochs')\n",
    "plt.ylabel('Accuracy')\n",
    "legend = plt.legend(loc='best', shadow=True)"
   ]
  },
  {
   "cell_type": "markdown",
   "metadata": {},
   "source": [
    "# Confusion Matrix"
   ]
  },
  {
   "cell_type": "markdown",
   "metadata": {},
   "source": [
    "Confusion matrix can be very helpfull to see your model drawbacks.\n",
    "\n",
    "I plot the confusion matrix of the validation results."
   ]
  },
  {
   "cell_type": "code",
   "execution_count": 11,
   "metadata": {},
   "outputs": [
    {
     "data": {
      "image/png": "[encoded data removed]",
      "text/plain": [
       "<matplotlib.figure.Figure at 0x115833198>"
      ]
     },
     "metadata": {},
     "output_type": "display_data"
    }
   ],
   "source": [
    "def plot_confusion_matrix(cm, classes,\n",
    "                          normalize=False,\n",
    "                          title='Confusion matrix',\n",
    "                          cmap=plt.cm.Blues):\n",
    "    \"\"\"\n",
    "    This function prints and plots the confusion matrix.\n",
    "    Normalization can be applied by setting `normalize=True`.\n",
    "    \"\"\"\n",
    "    plt.imshow(cm, interpolation='nearest', cmap=cmap)\n",
    "    plt.title(title)\n",
    "    plt.colorbar()\n",
    "    tick_marks = np.arange(len(classes))\n",
    "    plt.xticks(tick_marks, classes, rotation=45)\n",
    "    plt.yticks(tick_marks, classes)\n",
    "\n",
    "    if normalize:\n",
    "        cm = cm.astype('float') / cm.sum(axis=1)[:, np.newaxis]\n",
    "\n",
    "    thresh = cm.max() / 2.\n",
    "    for i, j in itertools.product(range(cm.shape[0]), range(cm.shape[1])):\n",
    "        plt.text(j, i, cm[i, j],\n",
    "                 horizontalalignment=\"center\",\n",
    "                 color=\"white\" if cm[i, j] > thresh else \"black\")\n",
    "\n",
    "    plt.tight_layout()\n",
    "    plt.ylabel('True label')\n",
    "    plt.xlabel('Predicted label')\n",
    "\n",
    "# Predict the values from the validation dataset\n",
    "prob, Y_pred = ann.predict(X_val)\n",
    "Y_pred = np.squeeze(np.asarray(Y_pred))\n",
    "Y_true = y_val\n",
    "\n",
    "# compute the confusion matrix\n",
    "confusion_mtx = confusion_matrix(Y_true, Y_pred) \n",
    "# plot the confusion matrix\n",
    "plot_confusion_matrix(confusion_mtx, classes = range(10)) "
   ]
  },
  {
   "cell_type": "markdown",
   "metadata": {},
   "source": [
    "# Display Error Result\n",
    "\n",
    "Let's investigate for errors.\n",
    "\n",
    "I want to see the most important errors . For that purpose i need to get the difference between the probabilities of real value and the predicted ones in the results."
   ]
  },
  {
   "cell_type": "code",
   "execution_count": 14,
   "metadata": {},
   "outputs": [
    {
     "data": {
      "image/png": "[encoded data removed]",
      "text/plain": [
       "<matplotlib.figure.Figure at 0x1213cff98>"
      ]
     },
     "metadata": {},
     "output_type": "display_data"
    }
   ],
   "source": [
    "# Display some error results \n",
    "\n",
    "# Errors are difference between predicted labels and true labels\n",
    "errors = (Y_pred - Y_true != 0)\n",
    "errors = np.squeeze(np.asarray(errors))\n",
    "Y_pred_errors = Y_pred[errors]\n",
    "Y_pred_prob_errors = prob[errors]\n",
    "Y_true_errors = Y_true[errors]\n",
    "X_val_errors = X_val[errors]\n",
    "\n",
    "def display_errors(errors_index,img_errors,pred_errors, obs_errors):\n",
    "    \"\"\" This function shows 6 images with their predicted and real labels\"\"\"\n",
    "    n = 0\n",
    "    nrows = 2\n",
    "    ncols = 3\n",
    "    fig, ax = plt.subplots(nrows,ncols,sharex=True,sharey=True)\n",
    "    for row in range(nrows):\n",
    "        for col in range(ncols):\n",
    "            error = errors_index[n]\n",
    "            ax[row,col].imshow((img_errors[error]).reshape((28,28)))\n",
    "            ax[row,col].set_title(\"Predicted label :{}\\nTrue label :{}\".format(pred_errors[error],obs_errors[error]))\n",
    "            n += 1\n",
    "\n",
    "# Probabilities of the wrong predicted numbers\n",
    "Y_pred_errors_prob = np.max(Y_pred_errors)\n",
    "\n",
    "# Predicted probabilities of the true values in the error set\n",
    "true_prob_errors = np.diagonal(np.take(Y_pred_prob_errors, Y_true_errors, axis=1))\n",
    "\n",
    "# Difference between the probability of the predicted label and the true label\n",
    "delta_pred_true_errors = Y_pred_errors_prob - true_prob_errors\n",
    "\n",
    "# Sorted list of the delta prob errors\n",
    "sorted_dela_errors = np.argsort(delta_pred_true_errors)\n",
    "\n",
    "# Top 6 errors \n",
    "most_important_errors = sorted_dela_errors[-6:]\n",
    "\n",
    "# Show the top 6 errors\n",
    "display_errors(most_important_errors, X_val_errors, Y_pred_errors, Y_true_errors)"
   ]
  },
  {
   "cell_type": "code",
   "execution_count": null,
   "metadata": {},
   "outputs": [],
   "source": []
  },
  {
   "cell_type": "code",
   "execution_count": null,
   "metadata": {},
   "outputs": [],
   "source": []
  }
 ],
 "metadata": {
  "kernelspec": {
   "display_name": "Python 3",
   "language": "python",
   "name": "python3"
  },
  "language_info": {
   "codemirror_mode": {
    "name": "ipython",
    "version": 3
   },
   "file_extension": ".py",
   "mimetype": "text/x-python",
   "name": "python",
   "nbconvert_exporter": "python",
   "pygments_lexer": "ipython3",
   "version": "3.6.3"
  }
 },
 "nbformat": 4,
 "nbformat_minor": 2
}
