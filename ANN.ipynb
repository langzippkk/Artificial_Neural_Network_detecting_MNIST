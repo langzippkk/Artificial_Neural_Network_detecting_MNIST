{
 "cells": [
  {
   "cell_type": "code",
   "execution_count": 1,
   "metadata": {},
   "outputs": [],
   "source": [
    "import pandas as pd\n",
    "import numpy as np\n",
    "import matplotlib.pyplot as plt\n",
    "from sklearn.model_selection import train_test_split\n",
    "from sklearn.metrics import confusion_matrix\n",
    "import itertools\n",
    "%matplotlib inline\n",
    "import seaborn as sns\n",
    "sns.set(style='white', context='notebook', palette='deep')"
   ]
  },
  {
   "cell_type": "code",
   "execution_count": 2,
   "metadata": {},
   "outputs": [],
   "source": [
    "df = pd.read_csv('./train.csv')\n",
    "X = np.asmatrix(df.drop('label', axis=1)) / 255\n",
    "y = np.asarray(df['label'])\n",
    "X_train, X_test, y_train, y_test = train_test_split(X, y, test_size=0.25, random_state=0)"
   ]
  },
  {
   "cell_type": "code",
   "execution_count": 3,
   "metadata": {},
   "outputs": [],
   "source": [
    "class ANN():\n",
    "    def __init__(self, nhid, nunits):\n",
    "        self.nhid = nhid\n",
    "        self.nunits = nunits # a list of number of units for each layer\n",
    "        self.weights = []\n",
    "        self.bias =  []\n",
    "        self.result = [None]* (self.nhid+2)\n",
    "        self.delta =  [None]* (self.nhid+2)\n",
    "        self.zs = [None] * (self.nhid+2)\n",
    "        self.errors = []\n",
    "        self.accuracies = []\n",
    "        \n",
    "    \n",
    "    def forward(self, x):\n",
    "        self.result[0] = np.array(x)\n",
    "        for layer in range(1, self.nhid+2):\n",
    "            z = self.result[layer-1]@self.weights[layer-1] + self.bias[layer-1]\n",
    "            self.zs[layer] = np.array(z)\n",
    "            result = self.sigmoid(z)\n",
    "            self.result[layer] = np.array(result)\n",
    "        return self.result[layer]\n",
    "    \n",
    "    def backward(self, x, y):\n",
    "        self.delta[self.nhid+1] = self.dsigmoid(self.zs[self.nhid+1]) * (y - self.result[self.nhid+1])\n",
    "        for layer in range(self.nhid, 0, -1):\n",
    "            z = self.zs[layer]\n",
    "            self.delta[layer] = (self.delta[layer+1]@self.weights[layer].T) * self.dsigmoid(z)\n",
    "                \n",
    "                \n",
    "    def weights_update(self, alpha):\n",
    "        for layer in range(self.nhid+1):\n",
    "            self.weights[layer] += alpha * self.result[layer].T@self.delta[layer+1]\n",
    "            self.bias[layer] += alpha * self.delta[layer+1]\n",
    "    \n",
    "    def fit(self, X, y, alpha, t):\n",
    "        y = np.asarray(pd.get_dummies(y), dtype=float)\n",
    "        m, n = X.shape\n",
    "        self.param_init(X,y)\n",
    "        for epoch in range(t):\n",
    "            error =0\n",
    "            for i in range(m):\n",
    "                x = np.asarray(X[i,:])\n",
    "                v = np.asarray(y[i,:]).reshape((1, len(y[i,:])))\n",
    "                \n",
    "                a = self.forward(x)\n",
    "                self.backward(x, v)\n",
    "                self.weights_update(alpha)\n",
    "                error += np.sum((v-a)**2)\n",
    "            accuracy = self.accuracy(X, y)  \n",
    "            self.accuracies.append(accuracy)\n",
    "            self.errors.append(error/len(X))\n",
    "            if epoch%5 ==0:\n",
    "                print('>epoch=%d,error=%.3f'%(epoch, error/len(X)))\n",
    "#         return errors\n",
    "                \n",
    "            \n",
    "    def predict(self, T):\n",
    "        '''\n",
    "        Input:\n",
    "            T: test examples\n",
    "            \n",
    "        Output:\n",
    "            class probability\n",
    "        '''\n",
    "        result = T\n",
    "        for layer in range(1, self.nhid+2):\n",
    "            z = result@self.weights[layer-1]\n",
    "            result = self.sigmoid(z)\n",
    "        return np.argmax(result, axis=1)\n",
    "        \n",
    "    def print(self):\n",
    "        print(f'current weights: \\n {self.weights}' \\\n",
    "             f'current bias: \\n {self.bias}')\n",
    "    \n",
    "    def param_init(self, X, y):\n",
    "        nin, nout = X.shape[1], self.nunits[0]\n",
    "        self.weights.append(self.xavier_init(nin, nout))\n",
    "        self.bias.append(self.xavier_init(1, nout))\n",
    "        for i in range(self.nhid - 1):\n",
    "            self.weights.append(self.xavier_init(self.nunits[i], self.nunits[i+1]))\n",
    "            self.bias.append(self.xavier_init(1, self.nunits[i+1]))\n",
    "        self.weights.append(self.xavier_init(self.nunits[-1], y.shape[1]))\n",
    "        self.bias.append(self.xavier_init(1, y.shape[1]))\n",
    "        \n",
    "    def xavier_init(self, nin, nout):\n",
    "        up = np.sqrt(6 / (nin + nout))\n",
    "        low = -up\n",
    "        return (up - low) * np.random.random_sample((nin, nout)) + low\n",
    "    \n",
    "    def accuracy(self, X, y):\n",
    "        predictions = self.predict(X).T.ravel()\n",
    "        predictions = np.squeeze(np.asarray(predictions))\n",
    "        label = np.argmax(y, axis=1)\n",
    "        return sum(predictions == label) / X.shape[0]\n",
    "                \n",
    "    def sigmoid(self, x):\n",
    "        return 1 / (1 + np.exp(-x))\n",
    "    \n",
    "    def dsigmoid(self, x):\n",
    "        return self.sigmoid(x) * (1 - self.sigmoid(x))\n",
    "            "
   ]
  },
  {
   "cell_type": "code",
   "execution_count": 42,
   "metadata": {},
   "outputs": [],
   "source": [
    "ann = ANN(1, [32])"
   ]
  },
  {
   "cell_type": "code",
   "execution_count": 43,
   "metadata": {},
   "outputs": [
    {
     "name": "stdout",
     "output_type": "stream",
     "text": [
      ">epoch=0,error=0.217\n",
      ">epoch=5,error=0.074\n",
      ">epoch=10,error=0.056\n",
      ">epoch=15,error=0.046\n",
      ">epoch=20,error=0.039\n",
      ">epoch=25,error=0.034\n",
      "CPU times: user 6min 26s, sys: 1min, total: 7min 26s\n",
      "Wall time: 4min 9s\n"
     ]
    }
   ],
   "source": [
    "%%time\n",
    "ALPHA = 0.1\n",
    "EPOCH = 30\n",
    "ann.fit(X_train, y_train, ALPHA, EPOCH)"
   ]
  },
  {
   "cell_type": "code",
   "execution_count": 44,
   "metadata": {},
   "outputs": [
    {
     "data": {
      "text/plain": [
       "0.9486666666666667"
      ]
     },
     "execution_count": 44,
     "metadata": {},
     "output_type": "execute_result"
    }
   ],
   "source": [
    "res = ann.predict(X_test).reshape(1,-1)\n",
    "y = y_test.reshape(1,-1)\n",
    "np.sum(res == y) / len(y_test)"
   ]
  },
  {
   "cell_type": "code",
   "execution_count": 45,
   "metadata": {},
   "outputs": [
    {
     "data": {
      "image/png": "[encoded data removed]",
      "text/plain": [
       "<matplotlib.figure.Figure at 0x11613f470>"
      ]
     },
     "metadata": {},
     "output_type": "display_data"
    }
   ],
   "source": [
    "# plot some number\n",
    "num = plt.imshow(X_train[1000,:].reshape(28,28))"
   ]
  },
  {
   "cell_type": "code",
   "execution_count": 46,
   "metadata": {},
   "outputs": [
    {
     "data": {
      "image/png": "[encoded data removed]",
      "text/plain": [
       "<matplotlib.figure.Figure at 0x1161e08d0>"
      ]
     },
     "metadata": {},
     "output_type": "display_data"
    }
   ],
   "source": [
    "# plot the Training cost and Validation cost\n",
    "epoches = np.arange(EPOCH)\n",
    "plt.plot(epoches, ann.errors, color='darkorange', label=\"cost\")\n",
    "plt.xlabel('# epochs')\n",
    "plt.ylabel('Cost')\n",
    "legend = plt.legend(loc='best', shadow=True)"
   ]
  },
  {
   "cell_type": "code",
   "execution_count": 47,
   "metadata": {},
   "outputs": [
    {
     "data": {
      "image/png": "[encoded data removed]",
      "text/plain": [
       "<matplotlib.figure.Figure at 0x115e6e0b8>"
      ]
     },
     "metadata": {},
     "output_type": "display_data"
    }
   ],
   "source": [
    "# plot the Training accuracy and Validation accuracy\n",
    "plt.plot(epoches, ann.accuracies, color='darkorange', label=\"accuracy\")\n",
    "plt.xlabel('# epochs')\n",
    "plt.ylabel('Accuracy')\n",
    "legend = plt.legend(loc='best', shadow=True)"
   ]
  },
  {
   "cell_type": "code",
   "execution_count": 23,
   "metadata": {},
   "outputs": [
    {
     "data": {
      "text/plain": [
       "2"
      ]
     },
     "execution_count": 23,
     "metadata": {},
     "output_type": "execute_result"
    }
   ],
   "source": [
    "sum(np.array([1, 2]) == np.array([1, 2]))"
   ]
  },
  {
   "cell_type": "code",
   "execution_count": null,
   "metadata": {},
   "outputs": [],
   "source": []
  },
  {
   "cell_type": "code",
   "execution_count": null,
   "metadata": {},
   "outputs": [],
   "source": []
  }
 ],
 "metadata": {
  "kernelspec": {
   "display_name": "Python 3",
   "language": "python",
   "name": "python3"
  },
  "language_info": {
   "codemirror_mode": {
    "name": "ipython",
    "version": 3
   },
   "file_extension": ".py",
   "mimetype": "text/x-python",
   "name": "python",
   "nbconvert_exporter": "python",
   "pygments_lexer": "ipython3",
   "version": "3.6.3"
  }
 },
 "nbformat": 4,
 "nbformat_minor": 2
}
